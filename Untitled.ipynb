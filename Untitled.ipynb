{
 "cells": [
  {
   "cell_type": "code",
   "execution_count": 19,
   "id": "9660b592",
   "metadata": {},
   "outputs": [
    {
     "name": "stdout",
     "output_type": "stream",
     "text": [
      "Overwriting app.py\n"
     ]
    }
   ],
   "source": [
    "%%writefile app.py\n",
    "import streamlit as st\n",
    "import pandas as pd\n",
    "import tensorflow as tf\n",
    "from sklearn.model_selection import train_test_split\n",
    "from sklearn.feature_extraction.text import CountVectorizer\n",
    "from sklearn.metrics import confusion_matrix\n",
    "from tensorflow.keras.preprocessing.text import Tokenizer\n",
    "from tensorflow.keras.preprocessing.sequence import pad_sequences\n",
    "\n",
    "df = pd.read_csv('clickbait_data.csv')\n",
    "text = df['headline'].values\n",
    "labels = df['clickbait'].values\n",
    "text_train, text_test, y_train, y_test = train_test_split(text, labels, test_size=0.2)\n",
    "vocab_size = 5000\n",
    "maxlen = 500\n",
    "embedding_size = 32\n",
    "tokenizer = Tokenizer(num_words=vocab_size)\n",
    "tokenizer.fit_on_texts(text)\n",
    "model=tf.keras.models.load_model('model.h5')\n",
    "st.write(\"\"\"\n",
    "         # Clickbait Detection\n",
    "         \"\"\"\n",
    "         )\n",
    "t = st.text_input(\"please write text\")\n",
    "test=[t]\n",
    "def import_and_predict(test, model):\n",
    "    token_text = pad_sequences(tokenizer.texts_to_sequences(test), maxlen=maxlen)\n",
    "    preds = [round(i[0]) for i in model.predict(token_text)]\n",
    "    for (text, pred) in zip(test, preds):\n",
    "        label = 'Clickbait' if pred == 1.0 else 'Not Clickbait'\n",
    "        prediction=(\"{} - {}\".format(text, label))\n",
    "    return prediction\n",
    "if test is None:\n",
    "    st.text(\"Please upload the text\")\n",
    "else:\n",
    "    predictions = import_and_predict(test, model) \n",
    "    st.success(predictions)"
   ]
  },
  {
   "cell_type": "code",
   "execution_count": null,
   "id": "d7c5fcd1",
   "metadata": {},
   "outputs": [],
   "source": [
    "test = ['My biggest laugh reveal ever!', 'Learning game development with Unity', 'A tour of Japan\\'s Kansai region', '12 things NOT to do in Europe']"
   ]
  }
 ],
 "metadata": {
  "kernelspec": {
   "display_name": "Python 3 (ipykernel)",
   "language": "python",
   "name": "python3"
  },
  "language_info": {
   "codemirror_mode": {
    "name": "ipython",
    "version": 3
   },
   "file_extension": ".py",
   "mimetype": "text/x-python",
   "name": "python",
   "nbconvert_exporter": "python",
   "pygments_lexer": "ipython3",
   "version": "3.9.7"
  }
 },
 "nbformat": 4,
 "nbformat_minor": 5
}
